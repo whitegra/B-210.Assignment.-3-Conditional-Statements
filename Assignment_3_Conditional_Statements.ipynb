{
  "nbformat": 4,
  "nbformat_minor": 0,
  "metadata": {
    "colab": {
      "provenance": []
    },
    "kernelspec": {
      "name": "python3",
      "display_name": "Python 3"
    },
    "language_info": {
      "name": "python"
    }
  },
  "cells": [
    {
      "cell_type": "markdown",
      "source": [
        "THIS IS FOR THE GRADE CALCULATOR:\n",
        "- Only one user defined function (student_grade) is used to collect user input and process results."
      ],
      "metadata": {
        "id": "IMMppxXf-Wf1"
      }
    },
    {
      "cell_type": "code",
      "execution_count": null,
      "metadata": {
        "id": "9Ur60Z_DWJXA"
      },
      "outputs": [],
      "source": [
        "def student_grade():\n",
        "\n",
        "  # while true loop to run again if desired\n",
        "  while True:\n",
        "    # try this first ...\n",
        "    try:\n",
        "      grade_percent = (input(\"Enter your grade in percent form (0-1):\"))\n",
        "\n",
        "      # in case they enter a negative number (apparently it won't work unless you specify the (-))\n",
        "      if grade_percent[0] == \"-\":\n",
        "        print(\"You have entered a negative percent. Please try again: \")\n",
        "        continue\n",
        "\n",
        "      # define the grade percent to be a float in case the user enters an invalid range OR not a number (valueError)\n",
        "      grade_percent_f = float(grade_percent)\n",
        "\n",
        "      if grade_percent_f > 1.0:\n",
        "         print(\"You have entered a percentage greater than 1. Please try again: \")\n",
        "         continue\n",
        "\n",
        "      elif grade_percent_f < 0.0:\n",
        "        print(\"You have entered a negative percent. Please try again: \")\n",
        "        continue\n",
        "\n",
        "    # This is in case the user enters a non- number which is why the condition is gven after grade_percent is defined as a float\n",
        "    # If all else fails.. try this ... (except):\n",
        "    except ValueError:\n",
        "      print(\"Invalid input. Please enter a valid percentage.\")\n",
        "      continue\n",
        "\n",
        "    # multiply by 100 to avoid float rounding\n",
        "    letter_grade_percent = grade_percent_f * 100\n",
        "    # innitialize letter grade to empty so it dosen't print every single grade\n",
        "    letter_grade = \"\"\n",
        "\n",
        "    # could probs put this in a user defined function to make it easier to read and debug\n",
        "    if letter_grade_percent >= 97 and letter_grade_percent <= 100:\n",
        "      letter_grade = \"A+\"\n",
        "    elif letter_grade_percent >= 93 and letter_grade_percent <= 96.99:\n",
        "      letter_grade = \"A\"\n",
        "    elif letter_grade_percent >= 90 and letter_grade_percent <= 92.99:\n",
        "      letter_grade = \"A-\"\n",
        "    elif letter_grade_percent >= 87 and letter_grade_percent <= 89.99:\n",
        "      letter_grade = \"B+\"\n",
        "    elif letter_grade_percent >= 83 and letter_grade_percent <= 86.99:\n",
        "      letter_grade = \"B\"\n",
        "    elif letter_grade_percent >= 80 and letter_grade_percent <= 82.99:\n",
        "      letter_grade = \"B-\"\n",
        "    elif letter_grade_percent >= 77 and letter_grade_percent <= 79.99:\n",
        "      letter_grade = \"C+\"\n",
        "    elif letter_grade_percent >= 73 and letter_grade_percent <= 76.99:\n",
        "      letter_grade = \"C\"\n",
        "    elif letter_grade_percent >= 70 and letter_grade_percent <= 72.99:\n",
        "      letter_grade = \"C-\"\n",
        "    elif letter_grade_percent >= 67 and letter_grade_percent <= 69.99:\n",
        "      letter_grade = \"D+\"\n",
        "    elif letter_grade_percent >= 63 and letter_grade_percent <= 66.99:\n",
        "      letter_grade = \"D\"\n",
        "    elif letter_grade_percent >= 60 and letter_grade_percent <= 62.99:\n",
        "      letter_grade = \"D-\"\n",
        "    elif letter_grade_percent < 60 and letter_grade_percent >= 0:\n",
        "      letter_grade = \"F\"\n",
        "\n",
        "    print(\"--------------------------------------\")\n",
        "    print(\"Your letter grade is:\", letter_grade)\n",
        "    print(\"--------------------------------------\")\n",
        "\n",
        "    run_again = input(\"WOuld you like to calculate another letter grade? ('y/n'): \")\n",
        "    if run_again != 'y':\n",
        "        break"
      ]
    },
    {
      "cell_type": "markdown",
      "source": [
        "THIS IS TO OPEN CSV FILE W/ MONTHS AND DAYS\n",
        "- I am using a CSV file, because it can handle more exceptions without error."
      ],
      "metadata": {
        "id": "9jCTOXRr-Jdx"
      }
    },
    {
      "cell_type": "code",
      "source": [
        "# this is to open the CSV file and make sure its contents are correct\n",
        "# it is helpful to open before it is referenced, so that you can refer back to the row and columns\n",
        "\n",
        "with open('/content/MONTHS_DAYS_2023 - Sheet1 (1).csv','r') as csv_file:\n",
        "  # reading and printing the contents of the CSV file\n",
        "  csv_contents = csv_file.read()\n",
        "  print(csv_contents)"
      ],
      "metadata": {
        "colab": {
          "base_uri": "https://localhost:8080/"
        },
        "id": "4Pf8nCuSznoO",
        "outputId": "5085e856-3bbe-4623-f22a-43a1ee508a0a"
      },
      "execution_count": 25,
      "outputs": [
        {
          "output_type": "stream",
          "name": "stdout",
          "text": [
            "month,month_num,days_in_month\n",
            "January,1,31\n",
            "Jan,1,31\n",
            "january,1,31\n",
            "jan,1,31\n",
            "Feburary,2,28\n",
            "Feb,2,28\n",
            "feburary ,2,28\n",
            "feb,2,28\n",
            "March,3,31\n",
            "march,3,31\n",
            "April,4,30\n",
            "april,4,30\n",
            "May,5,31\n",
            "may,5,31\n",
            "June,6,30\n",
            "june,6,30\n",
            "July,7,31\n",
            "july,7,31\n",
            "August,8,31\n",
            "Aug,8,31\n",
            "august,8,31\n",
            "aug,8,31\n",
            "September,9,30\n",
            "september,9,30\n",
            "Sep,9,30\n",
            "sep,9,30\n",
            "October,10,31\n",
            "Oct,10,31\n",
            "october,10,31\n",
            "November,11,30\n",
            "november,11,30\n",
            "nov,11,30\n",
            "Nov,11,30\n",
            "December,12,31\n",
            "december,12,31\n",
            "dec,12,31\n",
            "Dec,12,31\n"
          ]
        }
      ]
    },
    {
      "cell_type": "markdown",
      "source": [
        "MONTH --> # DAYS:\n",
        "- def get_num_days will iterate through the CSV file and return the number of days that correspond to the user's input\n",
        "- def user_month_input will call from get_num_days to get user input and return the proper number of days."
      ],
      "metadata": {
        "id": "uqbgMqAT9xry"
      }
    },
    {
      "cell_type": "code",
      "source": [
        "import csv\n",
        "\n",
        "# this is a user defined function to process user input, and handle some possible exceptions\n",
        "def get_num_days(user_input_month):\n",
        "    with open('/content/MONTHS_DAYS_2023 - Sheet1 (1).csv', 'r') as csvfile:\n",
        "        reader = csv.DictReader(csvfile)\n",
        "        # for this code, we only need to check the rows.\n",
        "        for row in reader:\n",
        "          # checking if the user entered a valid month OR if they entered a valid month number *(isdigit.())*, then finds the corresponding number of days\n",
        "            if row['month'] == user_input_month or (user_input_month.isdigit() and int(row['month_num']) == int(user_input_month)):\n",
        "                return row['days_in_month']\n",
        "        # if the loop completes without finding a matching month from the user's input, return None\n",
        "        return None\n",
        "\n",
        "# This is user deifned function for num_days\n",
        "def user_month_input():\n",
        "    while True:\n",
        "        user_input_month = input(\"Enter the month (ex. 'Jan', 'January') or its number: \")\n",
        "        num_days_user = get_num_days(user_input_month)\n",
        "        if num_days_user is None:\n",
        "            print(\"Invalid month name or number. Please enter a valid month name or number.\")\n",
        "        else:\n",
        "            print(\"_____________________________________\")\n",
        "            # this will make sure that num days is a float, and will call from the previous function\n",
        "            print(f\"Number of days: {num_days_user}\")\n",
        "            print(\"_____________________________________\")\n",
        "\n",
        "        run_again_calendar = input(\"Would you like to run again (y/n): \")\n",
        "        if run_again_calendar != 'y':\n",
        "            break\n"
      ],
      "metadata": {
        "id": "e3u0fKeRx9DT"
      },
      "execution_count": 48,
      "outputs": []
    },
    {
      "cell_type": "markdown",
      "source": [
        "**THIS IS \"MAIN\"**\n",
        "- all other user deifned functions are called withn the while statement, so the code can be re-executed without breaking."
      ],
      "metadata": {
        "id": "0MnFspPyCwEA"
      }
    },
    {
      "cell_type": "code",
      "source": [
        "\n",
        "while True:\n",
        "  program_choice = input(\"\\n\\nWhat program would you like to run?: ('g' for grade calculator, 'd' for days in month, 'e' to exit): \\n\")\n",
        "  if program_choice == 'g':\n",
        "    student_grade()\n",
        "  elif program_choice == 'd':\n",
        "    year = input(\"Would you like to use the year 2023?: ('y/n'):\")\n",
        "    if year != 'y':\n",
        "      print(\"Too bad\")\n",
        "    user_month_input()\n",
        "  elif program_choice == 'e':\n",
        "    break\n",
        "  else:\n",
        "    print(\"Invalid choice. Please try again.\\n\")\n",
        "\n",
        "  run_main_again = input(\"\\n\\nWould you like to run thr program again? ('y/n'): \\n\")\n",
        "  if run_main_again != 'y':\n",
        "    break\n"
      ],
      "metadata": {
        "colab": {
          "base_uri": "https://localhost:8080/"
        },
        "id": "u5AbIAvTCzaa",
        "outputId": "f42700fa-c724-4c33-96f6-78f94b36ef57"
      },
      "execution_count": 51,
      "outputs": [
        {
          "name": "stdout",
          "output_type": "stream",
          "text": [
            "\n",
            "\n",
            "What program would you like to run?: ('g' for grade calculator, 'd' for days in month, 'e' to exit): \n",
            "g\n",
            "Enter your grade in percent form (0-1):0.75\n",
            "--------------------------------------\n",
            "Your letter grade is: C\n",
            "--------------------------------------\n",
            "WOuld you like to calculate another letter grade? ('y/n'): y\n",
            "Enter your grade in percent form (0-1):75\n",
            "You have entered a percentage greater than 1. Please try again: \n",
            "Enter your grade in percent form (0-1):0.8995\n",
            "--------------------------------------\n",
            "Your letter grade is: B+\n",
            "--------------------------------------\n",
            "WOuld you like to calculate another letter grade? ('y/n'): y\n",
            "Enter your grade in percent form (0-1):-0.25\n",
            "You have entered a negative percent. Please try again: \n",
            "Enter your grade in percent form (0-1):A\n",
            "Invalid input. Please enter a valid percentage.\n",
            "Enter your grade in percent form (0-1):100\n",
            "You have entered a percentage greater than 1. Please try again: \n",
            "Enter your grade in percent form (0-1):0.1\n",
            "--------------------------------------\n",
            "Your letter grade is: F\n",
            "--------------------------------------\n",
            "WOuld you like to calculate another letter grade? ('y/n'): n\n",
            "\n",
            "\n",
            "Would you like to run thr program again? ('y/n'): \n",
            "y\n",
            "\n",
            "\n",
            "What program would you like to run?: ('g' for grade calculator, 'd' for days in month, 'e' to exit): \n",
            "d\n",
            "Would you like to use the year 2023?: ('y/n'):n\n",
            "Too bad\n",
            "Enter the month (ex. 'Jan', 'January') or its number: January\n",
            "_____________________________________\n",
            "Number of days: 31\n",
            "_____________________________________\n",
            "Would you like to run again (y/n): y\n",
            "Enter the month (ex. 'Jan', 'January') or its number: July\n",
            "_____________________________________\n",
            "Number of days: 31\n",
            "_____________________________________\n",
            "Would you like to run again (y/n): y\n",
            "Enter the month (ex. 'Jan', 'January') or its number: Feb\n",
            "_____________________________________\n",
            "Number of days: 28\n",
            "_____________________________________\n",
            "Would you like to run again (y/n): y\n",
            "Enter the month (ex. 'Jan', 'January') or its number: Summer\n",
            "Invalid month name or number. Please enter a valid month name or number.\n",
            "Would you like to run again (y/n): y\n",
            "Enter the month (ex. 'Jan', 'January') or its number: 1\n",
            "_____________________________________\n",
            "Number of days: 31\n",
            "_____________________________________\n",
            "Would you like to run again (y/n): n\n",
            "\n",
            "\n",
            "Would you like to run thr program again? ('y/n'): \n",
            "n\n"
          ]
        }
      ]
    }
  ]
}